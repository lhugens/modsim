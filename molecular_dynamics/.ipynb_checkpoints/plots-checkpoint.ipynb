{
 "cells": [
  {
   "cell_type": "code",
   "execution_count": 6,
   "id": "distributed-elder",
   "metadata": {
    "ExecuteTime": {
     "end_time": "2021-05-10T17:41:00.362082Z",
     "start_time": "2021-05-10T17:41:00.358652Z"
    }
   },
   "outputs": [],
   "source": [
    "import numpy as np\n",
    "import matplotlib.pyplot as plt"
   ]
  },
  {
   "cell_type": "code",
   "execution_count": 7,
   "id": "empirical-grace",
   "metadata": {
    "ExecuteTime": {
     "end_time": "2021-05-10T17:41:00.930519Z",
     "start_time": "2021-05-10T17:41:00.919759Z"
    }
   },
   "outputs": [
    {
     "name": "stdout",
     "output_type": "stream",
     "text": [
      "100\n"
     ]
    }
   ],
   "source": [
    "f = open('coords/coords_step0000000.dat')\n",
    "line = f.readline()\n",
    "N = int(line.split(\"\\n\")[0])\n",
    "print(N)"
   ]
  },
  {
   "cell_type": "code",
   "execution_count": 8,
   "id": "located-import",
   "metadata": {
    "ExecuteTime": {
     "end_time": "2021-05-10T17:41:02.427145Z",
     "start_time": "2021-05-10T17:41:02.403878Z"
    }
   },
   "outputs": [
    {
     "name": "stderr",
     "output_type": "stream",
     "text": [
      "<ipython-input-8-2cb37b6a741d>:1: UserWarning: loadtxt: Empty input file: \"state_variables.txt\"\n",
      "  steps, kinetic_energy, potential_energy = np.loadtxt(\"state_variables.txt\").transpose()\n"
     ]
    },
    {
     "ename": "ValueError",
     "evalue": "not enough values to unpack (expected 3, got 0)",
     "output_type": "error",
     "traceback": [
      "\u001b[0;31m---------------------------------------------------------------------------\u001b[0m",
      "\u001b[0;31mValueError\u001b[0m                                Traceback (most recent call last)",
      "\u001b[0;32m<ipython-input-8-2cb37b6a741d>\u001b[0m in \u001b[0;36m<module>\u001b[0;34m\u001b[0m\n\u001b[0;32m----> 1\u001b[0;31m \u001b[0msteps\u001b[0m\u001b[0;34m,\u001b[0m \u001b[0mkinetic_energy\u001b[0m\u001b[0;34m,\u001b[0m \u001b[0mpotential_energy\u001b[0m \u001b[0;34m=\u001b[0m \u001b[0mnp\u001b[0m\u001b[0;34m.\u001b[0m\u001b[0mloadtxt\u001b[0m\u001b[0;34m(\u001b[0m\u001b[0;34m\"state_variables.txt\"\u001b[0m\u001b[0;34m)\u001b[0m\u001b[0;34m.\u001b[0m\u001b[0mtranspose\u001b[0m\u001b[0;34m(\u001b[0m\u001b[0;34m)\u001b[0m\u001b[0;34m\u001b[0m\u001b[0;34m\u001b[0m\u001b[0m\n\u001b[0m",
      "\u001b[0;31mValueError\u001b[0m: not enough values to unpack (expected 3, got 0)"
     ]
    }
   ],
   "source": [
    "steps, kinetic_energy, potential_energy = np.loadtxt(\"state_variables.txt\").transpose()"
   ]
  },
  {
   "cell_type": "code",
   "execution_count": 9,
   "id": "baking-issue",
   "metadata": {
    "ExecuteTime": {
     "end_time": "2021-05-10T17:41:13.571886Z",
     "start_time": "2021-05-10T17:41:13.474283Z"
    }
   },
   "outputs": [
    {
     "ename": "NameError",
     "evalue": "name 'steps' is not defined",
     "output_type": "error",
     "traceback": [
      "\u001b[0;31m---------------------------------------------------------------------------\u001b[0m",
      "\u001b[0;31mNameError\u001b[0m                                 Traceback (most recent call last)",
      "\u001b[0;32m<ipython-input-9-60aae2e6c29f>\u001b[0m in \u001b[0;36m<module>\u001b[0;34m\u001b[0m\n\u001b[1;32m      2\u001b[0m \u001b[0mplt\u001b[0m\u001b[0;34m.\u001b[0m\u001b[0mxlabel\u001b[0m\u001b[0;34m(\u001b[0m\u001b[0;34m'time'\u001b[0m\u001b[0;34m)\u001b[0m\u001b[0;34m\u001b[0m\u001b[0;34m\u001b[0m\u001b[0m\n\u001b[1;32m      3\u001b[0m \u001b[0mplt\u001b[0m\u001b[0;34m.\u001b[0m\u001b[0mylabel\u001b[0m\u001b[0;34m(\u001b[0m\u001b[0;34m'kinetic energy'\u001b[0m\u001b[0;34m)\u001b[0m\u001b[0;34m\u001b[0m\u001b[0;34m\u001b[0m\u001b[0m\n\u001b[0;32m----> 4\u001b[0;31m \u001b[0mplt\u001b[0m\u001b[0;34m.\u001b[0m\u001b[0mplot\u001b[0m\u001b[0;34m(\u001b[0m\u001b[0msteps\u001b[0m\u001b[0;34m,\u001b[0m \u001b[0mkinetic_energy\u001b[0m\u001b[0;34m)\u001b[0m\u001b[0;34m\u001b[0m\u001b[0;34m\u001b[0m\u001b[0m\n\u001b[0m\u001b[1;32m      5\u001b[0m \u001b[0mplt\u001b[0m\u001b[0;34m.\u001b[0m\u001b[0mshow\u001b[0m\u001b[0;34m(\u001b[0m\u001b[0;34m)\u001b[0m\u001b[0;34m\u001b[0m\u001b[0;34m\u001b[0m\u001b[0m\n\u001b[1;32m      6\u001b[0m \u001b[0;34m\u001b[0m\u001b[0m\n",
      "\u001b[0;31mNameError\u001b[0m: name 'steps' is not defined"
     ]
    },
    {
     "data": {
      "image/png": "[encoded data removed]",
      "text/plain": [
       "<Figure size 432x288 with 1 Axes>"
      ]
     },
     "metadata": {
      "needs_background": "light"
     },
     "output_type": "display_data"
    }
   ],
   "source": [
    "plt.title('Kinetic Energy')\n",
    "plt.xlabel('time')\n",
    "plt.ylabel('kinetic energy')\n",
    "plt.plot(steps, kinetic_energy)\n",
    "plt.show()\n",
    "\n",
    "plt.title('Potential Energy')\n",
    "plt.xlabel('time')\n",
    "plt.ylabel('potential energy')\n",
    "plt.plot(steps, potential_energy)\n",
    "plt.show()\n",
    "\n",
    "plt.title('Total Energy')\n",
    "plt.xlabel('time')\n",
    "plt.ylabel('Total energy')\n",
    "plt.plot(steps, np.log(kinetic_energy + potential_energy))\n",
    "plt.show()"
   ]
  },
  {
   "cell_type": "code",
   "execution_count": 67,
   "id": "fourth-institution",
   "metadata": {
    "ExecuteTime": {
     "end_time": "2021-05-10T13:22:51.535491Z",
     "start_time": "2021-05-10T13:22:51.299048Z"
    }
   },
   "outputs": [
    {
     "data": {
      "text/plain": [
       "(0.0, 3.3333333333333335)"
      ]
     },
     "execution_count": 67,
     "metadata": {},
     "output_type": "execute_result"
    },
    {
     "data": {
      "image/png": "[encoded data removed]",
      "text/plain": [
       "<Figure size 432x288 with 1 Axes>"
      ]
     },
     "metadata": {
      "needs_background": "light"
     },
     "output_type": "display_data"
    }
   ],
   "source": [
    "# analyse Lennard-Jones potential energy and force\n",
    "r_max = 10\n",
    "r = np.linspace(0.1,r_max,1000)\n",
    "r_cut = r_max / 3\n",
    "e_cut = (4/r_cut**6) * ((1/r_cut**6) - 1)\n",
    "energy = (4/r**6) * ((1/r**6) - 1) - e_cut\n",
    "plt.plot(r, energy)\n",
    "plt.axvline(r_cut)\n",
    "plt.xlim(0, r_cut)"
   ]
  },
  {
   "cell_type": "code",
   "execution_count": 25,
   "id": "flush-crash",
   "metadata": {
    "ExecuteTime": {
     "end_time": "2021-05-10T17:45:05.430418Z",
     "start_time": "2021-05-10T17:45:03.312311Z"
    }
   },
   "outputs": [
    {
     "name": "stdout",
     "output_type": "stream",
     "text": [
      "Expected std deviation: 1.41421\n",
      "Obtained std deviation: 1.4166876778038895\n"
     ]
    },
    {
     "data": {
      "image/png": "[encoded data removed]",
      "text/plain": [
       "<Figure size 432x288 with 1 Axes>"
      ]
     },
     "metadata": {
      "needs_background": "light"
     },
     "output_type": "display_data"
    }
   ],
   "source": [
    "# test boltzmann sample generator\n",
    "boltz = np.loadtxt(\"boltzmann.txt\")\n",
    "std_dev = boltz[0]\n",
    "boltz = boltz[1:]\n",
    "print(f'Expected std deviation: {std_dev}')\n",
    "print(f'Obtained std deviation: {np.std(boltz)}')\n",
    "plt.hist(boltz, density = True, bins = \"auto\")\n",
    "plt.show()"
   ]
  },
  {
   "cell_type": "code",
   "execution_count": null,
   "id": "treated-singles",
   "metadata": {},
   "outputs": [],
   "source": []
  }
 ],
 "metadata": {
  "kernelspec": {
   "display_name": "Python 3",
   "language": "python",
   "name": "python3"
  },
  "language_info": {
   "codemirror_mode": {
    "name": "ipython",
    "version": 3
   },
   "file_extension": ".py",
   "mimetype": "text/x-python",
   "name": "python",
   "nbconvert_exporter": "python",
   "pygments_lexer": "ipython3",
   "version": "3.9.4"
  }
 },
 "nbformat": 4,
 "nbformat_minor": 5
}
